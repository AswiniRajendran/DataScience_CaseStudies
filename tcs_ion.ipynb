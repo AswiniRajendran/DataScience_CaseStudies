{
 "cells": [
  {
   "cell_type": "markdown",
   "id": "1809ddd4",
   "metadata": {},
   "source": [
    "### Create a synthetic dataset"
   ]
  },
  {
   "cell_type": "code",
   "execution_count": 1,
   "id": "a6b8ec94",
   "metadata": {},
   "outputs": [],
   "source": [
    "# used for working with datasets\n",
    "import pandas as pd\n",
    "\n",
    "# Randomly generates values. \n",
    "import random\n",
    "\n",
    "# for performing numerical operations\n",
    "import numpy as np\n",
    "\n",
    "# import Faker for creating fake names\n",
    "from faker import Faker"
   ]
  },
  {
   "cell_type": "code",
   "execution_count": 2,
   "id": "d54d7b21",
   "metadata": {},
   "outputs": [],
   "source": [
    "# initialize the function\n",
    "fake = Faker()"
   ]
  },
  {
   "cell_type": "code",
   "execution_count": 3,
   "id": "dc1f1183",
   "metadata": {},
   "outputs": [
    {
     "name": "stdout",
     "output_type": "stream",
     "text": [
      "                   Name  Age  Gender Race Side Effect\n",
      "0           Ross Moreno   45    Male    3      Absent\n",
      "1         Bradley Stone   41  Female    2      Absent\n",
      "2       Shannon Johnson   32  Female    4      Absent\n",
      "3            Kevin Hunt   30  Female    2      Absent\n",
      "4           Tracy Giles   52  Female    1      Absent\n",
      "...                 ...  ...     ...  ...         ...\n",
      "399995    Clifford Beck   44  Female    2      Absent\n",
      "399996   Kayla Browning   44  Female    4      Absent\n",
      "399997    Heather Terry   45    Male    5      Absent\n",
      "399998     Henry Suarez   18  Female    3      Absent\n",
      "399999   Charles Acosta   44  Female    1      Absent\n",
      "\n",
      "[400000 rows x 5 columns]\n"
     ]
    }
   ],
   "source": [
    "# Set a random seed for reproducibility\n",
    "np.random.seed(42)\n",
    "\n",
    "# Define the size of the dataset\n",
    "dataset_size = 400000\n",
    "\n",
    "# Define empty data frame\n",
    "data = pd.DataFrame()\n",
    "\n",
    "# Generate Fake names\n",
    "data['Name']=[fake.name() for i in range(dataset_size)]\n",
    "\n",
    "# Generate 'Age' data (assuming a normal distribution)\n",
    "data['Age'] = np.random.normal(40, 10, dataset_size).astype(int)\n",
    "\n",
    "# Generate 'Gender' data (assuming a binary distribution)\n",
    "data['Gender'] = np.random.choice(['Male', 'Female'], dataset_size)\n",
    "\n",
    "# Generate 'Race' data (assuming five categories)\n",
    "data['Race'] = np.random.choice(['1', '2', '3', '4', '5'], dataset_size)\n",
    "\n",
    "# Create relationships between variables and 'Side Effect'\n",
    "# Assume that older individuals, males, and races 1,2 have a higher likelihood of experiencing side effects\n",
    "data['Side Effect'] = 'Absent'  # Initialize with 0\n",
    "data.loc[(data['Age'] > 50) & (data['Gender'] == 'Male') & (data['Race'] == '1'), 'Side Effect'] = 'Present'\n",
    "data.loc[(data['Age'] < 30) & (data['Gender'] == 'Female') & (data['Race'] == '2'), 'Side Effect'] = 'Present'\n",
    "\n",
    "# Shuffle the dataset\n",
    "data = data.sample(frac=1).reset_index(drop=True)\n",
    "\n",
    "# Check the first few rows of the dataset\n",
    "print(data)"
   ]
  },
  {
   "cell_type": "code",
   "execution_count": 4,
   "id": "b5ac8c0e",
   "metadata": {},
   "outputs": [],
   "source": [
    "# Save the dataset into a csv file\n",
    "data.to_csv('tcs.csv')"
   ]
  },
  {
   "cell_type": "markdown",
   "id": "5e7b7714",
   "metadata": {},
   "source": [
    "### Exploratory Data Analysis"
   ]
  },
  {
   "cell_type": "code",
   "execution_count": 5,
   "id": "a23b8fdc",
   "metadata": {
    "scrolled": true
   },
   "outputs": [
    {
     "name": "stdout",
     "output_type": "stream",
     "text": [
      "<class 'pandas.core.frame.DataFrame'>\n",
      "RangeIndex: 400000 entries, 0 to 399999\n",
      "Data columns (total 5 columns):\n",
      " #   Column       Non-Null Count   Dtype \n",
      "---  ------       --------------   ----- \n",
      " 0   Name         400000 non-null  object\n",
      " 1   Age          400000 non-null  int32 \n",
      " 2   Gender       400000 non-null  object\n",
      " 3   Race         400000 non-null  object\n",
      " 4   Side Effect  400000 non-null  object\n",
      "dtypes: int32(1), object(4)\n",
      "memory usage: 13.7+ MB\n"
     ]
    }
   ],
   "source": [
    "# basic understanding about data\n",
    "data.info()"
   ]
  },
  {
   "cell_type": "code",
   "execution_count": 6,
   "id": "7f8d9837",
   "metadata": {},
   "outputs": [
    {
     "data": {
      "text/plain": [
       "Male      200288\n",
       "Female    199712\n",
       "Name: Gender, dtype: int64"
      ]
     },
     "execution_count": 6,
     "metadata": {},
     "output_type": "execute_result"
    }
   ],
   "source": [
    "# Check for the unique values of the Gender column\n",
    "data['Gender'].value_counts()"
   ]
  },
  {
   "cell_type": "code",
   "execution_count": 7,
   "id": "f1c6fbb3",
   "metadata": {},
   "outputs": [
    {
     "data": {
      "text/plain": [
       "3    80258\n",
       "2    80235\n",
       "1    79998\n",
       "4    79924\n",
       "5    79585\n",
       "Name: Race, dtype: int64"
      ]
     },
     "execution_count": 7,
     "metadata": {},
     "output_type": "execute_result"
    }
   ],
   "source": [
    "# Check for the unique values of the Race column\n",
    "data['Race'].value_counts()"
   ]
  },
  {
   "cell_type": "code",
   "execution_count": 8,
   "id": "a0e172e2",
   "metadata": {},
   "outputs": [
    {
     "data": {
      "text/plain": [
       "Absent     388269\n",
       "Present     11731\n",
       "Name: Side Effect, dtype: int64"
      ]
     },
     "execution_count": 8,
     "metadata": {},
     "output_type": "execute_result"
    }
   ],
   "source": [
    "# Check for the balance of the dataset\n",
    "data['Side Effect'].value_counts()"
   ]
  },
  {
   "cell_type": "code",
   "execution_count": 9,
   "id": "02acabc4",
   "metadata": {},
   "outputs": [],
   "source": [
    "import matplotlib.pyplot as plt"
   ]
  },
  {
   "cell_type": "code",
   "execution_count": 10,
   "id": "cc236433",
   "metadata": {
    "scrolled": false
   },
   "outputs": [
    {
     "data": {
      "image/png": "[encoded data removed]",
      "text/plain": [
       "<Figure size 640x480 with 1 Axes>"
      ]
     },
     "metadata": {},
     "output_type": "display_data"
    }
   ],
   "source": [
    "# check for the distribution of Age\n",
    "data['Age'].hist()\n",
    "plt.title('Histogram for Ages')\n",
    "plt.show()"
   ]
  },
  {
   "cell_type": "markdown",
   "id": "98de568e",
   "metadata": {},
   "source": [
    "### Pre-processing dataset"
   ]
  },
  {
   "cell_type": "code",
   "execution_count": 11,
   "id": "c1985aba",
   "metadata": {
    "scrolled": true
   },
   "outputs": [],
   "source": [
    "# Drop the columns, key and names since these do not contribute in\n",
    "# classifying Side effects\n",
    "data.drop(['Name'],axis=1, inplace = True)"
   ]
  },
  {
   "cell_type": "code",
   "execution_count": 12,
   "id": "e24f295b",
   "metadata": {},
   "outputs": [],
   "source": [
    "# Encode the target variable \"Effect\"\n",
    "# Encode the 'Gender' and 'Race' variables using OHE\n",
    "from sklearn.preprocessing import LabelEncoder, OneHotEncoder"
   ]
  },
  {
   "cell_type": "code",
   "execution_count": 13,
   "id": "bf23b1b5",
   "metadata": {},
   "outputs": [],
   "source": [
    "# Initialize \n",
    "le = LabelEncoder()"
   ]
  },
  {
   "cell_type": "code",
   "execution_count": 14,
   "id": "cf4b3cdb",
   "metadata": {},
   "outputs": [],
   "source": [
    "#Fit and tranform the column\n",
    "data['Side Effect']=le.fit_transform(data['Side Effect'])"
   ]
  },
  {
   "cell_type": "code",
   "execution_count": 15,
   "id": "828098f6",
   "metadata": {},
   "outputs": [
    {
     "name": "stdout",
     "output_type": "stream",
     "text": [
      "        Age  Side Effect  GenderM  GenderF  Race1  Race2  Race3  Race4  Race5\n",
      "0        45            0      0.0      1.0    0.0    0.0    1.0    0.0    0.0\n",
      "1        41            0      1.0      0.0    0.0    1.0    0.0    0.0    0.0\n",
      "2        32            0      1.0      0.0    0.0    0.0    0.0    1.0    0.0\n",
      "3        30            0      1.0      0.0    0.0    1.0    0.0    0.0    0.0\n",
      "4        52            0      1.0      0.0    1.0    0.0    0.0    0.0    0.0\n",
      "...     ...          ...      ...      ...    ...    ...    ...    ...    ...\n",
      "399995   44            0      1.0      0.0    0.0    1.0    0.0    0.0    0.0\n",
      "399996   44            0      1.0      0.0    0.0    0.0    0.0    1.0    0.0\n",
      "399997   45            0      0.0      1.0    0.0    0.0    0.0    0.0    1.0\n",
      "399998   18            0      1.0      0.0    0.0    0.0    1.0    0.0    0.0\n",
      "399999   44            0      1.0      0.0    1.0    0.0    0.0    0.0    0.0\n",
      "\n",
      "[400000 rows x 9 columns]\n"
     ]
    }
   ],
   "source": [
    "# save as category data type\n",
    "data['Gender'] = data['Gender'].astype('category')\n",
    "data['Race'] = data['Race'].astype('category')\n",
    "  \n",
    "# Save as numerical values\n",
    "data['Gender'] = data['Gender'].cat.codes\n",
    "data['Race'] = data['Race'].cat.codes\n",
    "  \n",
    "# Create an instance of One-hot-encoder\n",
    "enc = OneHotEncoder()\n",
    "  \n",
    "# Passing encoded columns\n",
    "enc_data = pd.DataFrame(enc.fit_transform(data[['Gender', 'Race']]).toarray(),columns=['GenderM','GenderF','Race1','Race2','Race3','Race4','Race5'])\n",
    "  \n",
    "# Merge with main\n",
    "data.drop(['Gender','Race'],axis=1,inplace = True)\n",
    "New_df = data.join(enc_data)\n",
    "  \n",
    "print(New_df)"
   ]
  },
  {
   "cell_type": "code",
   "execution_count": 16,
   "id": "ace2975b",
   "metadata": {},
   "outputs": [],
   "source": [
    "# from sklearn.preprocessing import Standard Scaler\n",
    "from sklearn.preprocessing import StandardScaler"
   ]
  },
  {
   "cell_type": "code",
   "execution_count": 17,
   "id": "1c4200f6",
   "metadata": {},
   "outputs": [],
   "source": [
    "# Initialize\n",
    "scaler = StandardScaler()"
   ]
  },
  {
   "cell_type": "code",
   "execution_count": 18,
   "id": "56df3bfb",
   "metadata": {},
   "outputs": [
    {
     "data": {
      "text/html": [
       "<div>\n",
       "<style scoped>\n",
       "    .dataframe tbody tr th:only-of-type {\n",
       "        vertical-align: middle;\n",
       "    }\n",
       "\n",
       "    .dataframe tbody tr th {\n",
       "        vertical-align: top;\n",
       "    }\n",
       "\n",
       "    .dataframe thead th {\n",
       "        text-align: right;\n",
       "    }\n",
       "</style>\n",
       "<table border=\"1\" class=\"dataframe\">\n",
       "  <thead>\n",
       "    <tr style=\"text-align: right;\">\n",
       "      <th></th>\n",
       "      <th>Age</th>\n",
       "      <th>Side Effect</th>\n",
       "      <th>GenderM</th>\n",
       "      <th>GenderF</th>\n",
       "      <th>Race1</th>\n",
       "      <th>Race2</th>\n",
       "      <th>Race3</th>\n",
       "      <th>Race4</th>\n",
       "      <th>Race5</th>\n",
       "    </tr>\n",
       "  </thead>\n",
       "  <tbody>\n",
       "    <tr>\n",
       "      <th>0</th>\n",
       "      <td>0.549581</td>\n",
       "      <td>0</td>\n",
       "      <td>0.0</td>\n",
       "      <td>1.0</td>\n",
       "      <td>0.0</td>\n",
       "      <td>0.0</td>\n",
       "      <td>1.0</td>\n",
       "      <td>0.0</td>\n",
       "      <td>0.0</td>\n",
       "    </tr>\n",
       "    <tr>\n",
       "      <th>1</th>\n",
       "      <td>0.149856</td>\n",
       "      <td>0</td>\n",
       "      <td>1.0</td>\n",
       "      <td>0.0</td>\n",
       "      <td>0.0</td>\n",
       "      <td>1.0</td>\n",
       "      <td>0.0</td>\n",
       "      <td>0.0</td>\n",
       "      <td>0.0</td>\n",
       "    </tr>\n",
       "    <tr>\n",
       "      <th>2</th>\n",
       "      <td>-0.749525</td>\n",
       "      <td>0</td>\n",
       "      <td>1.0</td>\n",
       "      <td>0.0</td>\n",
       "      <td>0.0</td>\n",
       "      <td>0.0</td>\n",
       "      <td>0.0</td>\n",
       "      <td>1.0</td>\n",
       "      <td>0.0</td>\n",
       "    </tr>\n",
       "    <tr>\n",
       "      <th>3</th>\n",
       "      <td>-0.949388</td>\n",
       "      <td>0</td>\n",
       "      <td>1.0</td>\n",
       "      <td>0.0</td>\n",
       "      <td>0.0</td>\n",
       "      <td>1.0</td>\n",
       "      <td>0.0</td>\n",
       "      <td>0.0</td>\n",
       "      <td>0.0</td>\n",
       "    </tr>\n",
       "    <tr>\n",
       "      <th>4</th>\n",
       "      <td>1.249100</td>\n",
       "      <td>0</td>\n",
       "      <td>1.0</td>\n",
       "      <td>0.0</td>\n",
       "      <td>1.0</td>\n",
       "      <td>0.0</td>\n",
       "      <td>0.0</td>\n",
       "      <td>0.0</td>\n",
       "      <td>0.0</td>\n",
       "    </tr>\n",
       "    <tr>\n",
       "      <th>...</th>\n",
       "      <td>...</td>\n",
       "      <td>...</td>\n",
       "      <td>...</td>\n",
       "      <td>...</td>\n",
       "      <td>...</td>\n",
       "      <td>...</td>\n",
       "      <td>...</td>\n",
       "      <td>...</td>\n",
       "      <td>...</td>\n",
       "    </tr>\n",
       "    <tr>\n",
       "      <th>399995</th>\n",
       "      <td>0.449650</td>\n",
       "      <td>0</td>\n",
       "      <td>1.0</td>\n",
       "      <td>0.0</td>\n",
       "      <td>0.0</td>\n",
       "      <td>1.0</td>\n",
       "      <td>0.0</td>\n",
       "      <td>0.0</td>\n",
       "      <td>0.0</td>\n",
       "    </tr>\n",
       "    <tr>\n",
       "      <th>399996</th>\n",
       "      <td>0.449650</td>\n",
       "      <td>0</td>\n",
       "      <td>1.0</td>\n",
       "      <td>0.0</td>\n",
       "      <td>0.0</td>\n",
       "      <td>0.0</td>\n",
       "      <td>0.0</td>\n",
       "      <td>1.0</td>\n",
       "      <td>0.0</td>\n",
       "    </tr>\n",
       "    <tr>\n",
       "      <th>399997</th>\n",
       "      <td>0.549581</td>\n",
       "      <td>0</td>\n",
       "      <td>0.0</td>\n",
       "      <td>1.0</td>\n",
       "      <td>0.0</td>\n",
       "      <td>0.0</td>\n",
       "      <td>0.0</td>\n",
       "      <td>0.0</td>\n",
       "      <td>1.0</td>\n",
       "    </tr>\n",
       "    <tr>\n",
       "      <th>399998</th>\n",
       "      <td>-2.148563</td>\n",
       "      <td>0</td>\n",
       "      <td>1.0</td>\n",
       "      <td>0.0</td>\n",
       "      <td>0.0</td>\n",
       "      <td>0.0</td>\n",
       "      <td>1.0</td>\n",
       "      <td>0.0</td>\n",
       "      <td>0.0</td>\n",
       "    </tr>\n",
       "    <tr>\n",
       "      <th>399999</th>\n",
       "      <td>0.449650</td>\n",
       "      <td>0</td>\n",
       "      <td>1.0</td>\n",
       "      <td>0.0</td>\n",
       "      <td>1.0</td>\n",
       "      <td>0.0</td>\n",
       "      <td>0.0</td>\n",
       "      <td>0.0</td>\n",
       "      <td>0.0</td>\n",
       "    </tr>\n",
       "  </tbody>\n",
       "</table>\n",
       "<p>400000 rows × 9 columns</p>\n",
       "</div>"
      ],
      "text/plain": [
       "             Age  Side Effect  GenderM  GenderF  Race1  Race2  Race3  Race4  \\\n",
       "0       0.549581            0      0.0      1.0    0.0    0.0    1.0    0.0   \n",
       "1       0.149856            0      1.0      0.0    0.0    1.0    0.0    0.0   \n",
       "2      -0.749525            0      1.0      0.0    0.0    0.0    0.0    1.0   \n",
       "3      -0.949388            0      1.0      0.0    0.0    1.0    0.0    0.0   \n",
       "4       1.249100            0      1.0      0.0    1.0    0.0    0.0    0.0   \n",
       "...          ...          ...      ...      ...    ...    ...    ...    ...   \n",
       "399995  0.449650            0      1.0      0.0    0.0    1.0    0.0    0.0   \n",
       "399996  0.449650            0      1.0      0.0    0.0    0.0    0.0    1.0   \n",
       "399997  0.549581            0      0.0      1.0    0.0    0.0    0.0    0.0   \n",
       "399998 -2.148563            0      1.0      0.0    0.0    0.0    1.0    0.0   \n",
       "399999  0.449650            0      1.0      0.0    1.0    0.0    0.0    0.0   \n",
       "\n",
       "        Race5  \n",
       "0         0.0  \n",
       "1         0.0  \n",
       "2         0.0  \n",
       "3         0.0  \n",
       "4         0.0  \n",
       "...       ...  \n",
       "399995    0.0  \n",
       "399996    0.0  \n",
       "399997    1.0  \n",
       "399998    0.0  \n",
       "399999    0.0  \n",
       "\n",
       "[400000 rows x 9 columns]"
      ]
     },
     "execution_count": 18,
     "metadata": {},
     "output_type": "execute_result"
    }
   ],
   "source": [
    "# Fit and transform the data using Standard scaling\n",
    "age=np.array(New_df['Age'])\n",
    "age=age.reshape(-1, 1)\n",
    "New_df['Age'] = scaler.fit_transform(age)\n",
    "New_df"
   ]
  },
  {
   "cell_type": "markdown",
   "id": "1c9532eb",
   "metadata": {},
   "source": [
    "### Modelling"
   ]
  },
  {
   "cell_type": "code",
   "execution_count": 19,
   "id": "3bb9d6d6",
   "metadata": {},
   "outputs": [],
   "source": [
    "# Assign the independent and dependent variables\n",
    "y = New_df['Side Effect']\n",
    "x = New_df.drop('Side Effect',axis=1)"
   ]
  },
  {
   "cell_type": "code",
   "execution_count": 20,
   "id": "3def01d4",
   "metadata": {},
   "outputs": [],
   "source": [
    "# Use hold-out method to divide the data into train and test data\n",
    "from sklearn.model_selection import train_test_split"
   ]
  },
  {
   "cell_type": "code",
   "execution_count": 21,
   "id": "8eedae40",
   "metadata": {},
   "outputs": [],
   "source": [
    "# Since the dataset is not balanced, use the Stratification technique\n",
    "# Stratification ensures a proportional representation of y in test and train\n",
    "x_train, x_test,y_train, y_test =train_test_split(x,y,test_size=0.2, stratify=y, random_state=42)"
   ]
  },
  {
   "cell_type": "code",
   "execution_count": 22,
   "id": "041828ec",
   "metadata": {},
   "outputs": [],
   "source": [
    "# since the dataset is imbalanced, use F1 score to compare\n",
    "from sklearn.metrics import f1_score"
   ]
  },
  {
   "cell_type": "markdown",
   "id": "47755f4c",
   "metadata": {},
   "source": [
    "# 1. Logistic Regression"
   ]
  },
  {
   "cell_type": "code",
   "execution_count": 23,
   "id": "aef95d51",
   "metadata": {},
   "outputs": [],
   "source": [
    "# Import logistic regression package\n",
    "from sklearn.linear_model import LogisticRegression"
   ]
  },
  {
   "cell_type": "code",
   "execution_count": 24,
   "id": "8aadef77",
   "metadata": {},
   "outputs": [],
   "source": [
    "# Initialize and Fit\n",
    "lr_classifier =LogisticRegression(random_state=42)"
   ]
  },
  {
   "cell_type": "code",
   "execution_count": 25,
   "id": "c48440ed",
   "metadata": {},
   "outputs": [],
   "source": [
    "# Fit the model\n",
    "lr_classifier= lr_classifier.fit(x_train,y_train)"
   ]
  },
  {
   "cell_type": "code",
   "execution_count": 26,
   "id": "d3e2d998",
   "metadata": {},
   "outputs": [
    {
     "data": {
      "text/plain": [
       "0.0"
      ]
     },
     "execution_count": 26,
     "metadata": {},
     "output_type": "execute_result"
    }
   ],
   "source": [
    "# Check for prediction score\n",
    "y_pred = lr_classifier.predict(x_test)\n",
    "score_LR = f1_score(y_test,y_pred)\n",
    "score_LR"
   ]
  },
  {
   "cell_type": "markdown",
   "id": "692f2ec3",
   "metadata": {},
   "source": [
    "# 2. Random Forest"
   ]
  },
  {
   "cell_type": "code",
   "execution_count": 27,
   "id": "dc3f09b7",
   "metadata": {},
   "outputs": [],
   "source": [
    "from sklearn.ensemble import RandomForestClassifier"
   ]
  },
  {
   "cell_type": "code",
   "execution_count": 28,
   "id": "17b3f401",
   "metadata": {},
   "outputs": [
    {
     "data": {
      "text/plain": [
       "1.0"
      ]
     },
     "execution_count": 28,
     "metadata": {},
     "output_type": "execute_result"
    }
   ],
   "source": [
    "# initialize with 2 parameters\n",
    "rfclassifier = RandomForestClassifier(n_estimators=10, criterion = 'entropy')\n",
    "\n",
    "# fit the model on the training dataset\n",
    "rfclassifier = rfclassifier.fit(x_train, y_train)\n",
    "\n",
    "# Predict the values for the test data\n",
    "rf_pred = rfclassifier.predict(x_test)\n",
    "\n",
    "# measure the f1 score \n",
    "score_rf = f1_score(y_test,rf_pred)\n",
    "score_rf"
   ]
  },
  {
   "cell_type": "markdown",
   "id": "f8179e32",
   "metadata": {},
   "source": [
    "# 3. Support vector Machine Classifier"
   ]
  },
  {
   "cell_type": "code",
   "execution_count": 29,
   "id": "f5fc7b54",
   "metadata": {},
   "outputs": [],
   "source": [
    "# import the Support Vector Classifier\n",
    "from sklearn.svm import SVC "
   ]
  },
  {
   "cell_type": "code",
   "execution_count": 30,
   "id": "f70cf0c6",
   "metadata": {},
   "outputs": [],
   "source": [
    "# initialize\n",
    "svc = SVC()"
   ]
  },
  {
   "cell_type": "code",
   "execution_count": 31,
   "id": "486c8ae8",
   "metadata": {},
   "outputs": [
    {
     "data": {
      "text/plain": [
       "SVC()"
      ]
     },
     "execution_count": 31,
     "metadata": {},
     "output_type": "execute_result"
    }
   ],
   "source": [
    "# fit the training data\n",
    "svc.fit(x_train, y_train)"
   ]
  },
  {
   "cell_type": "code",
   "execution_count": 32,
   "id": "cbffd090",
   "metadata": {},
   "outputs": [
    {
     "data": {
      "text/plain": [
       "1.0"
      ]
     },
     "execution_count": 32,
     "metadata": {},
     "output_type": "execute_result"
    }
   ],
   "source": [
    "# make predictions using the model based on test data\n",
    "svc_pred = svc.predict(x_test)\n",
    "\n",
    "# measure the f1 score\n",
    "score_svc = f1_score(y_test,svc_pred)\n",
    "score_svc"
   ]
  },
  {
   "cell_type": "markdown",
   "id": "336630d2",
   "metadata": {},
   "source": [
    "# 4. K Nearest Neighbors"
   ]
  },
  {
   "cell_type": "code",
   "execution_count": 33,
   "id": "1ce072fc",
   "metadata": {},
   "outputs": [],
   "source": [
    "# import knn  \n",
    "from sklearn.neighbors import KNeighborsClassifier  "
   ]
  },
  {
   "cell_type": "code",
   "execution_count": 34,
   "id": "d76dbd9b",
   "metadata": {},
   "outputs": [
    {
     "data": {
      "text/plain": [
       "KNeighborsClassifier()"
      ]
     },
     "execution_count": 34,
     "metadata": {},
     "output_type": "execute_result"
    }
   ],
   "source": [
    "# initialize\n",
    "knn= KNeighborsClassifier(n_neighbors=5, metric='minkowski', p=2 )  \n",
    "\n",
    "# fit the model\n",
    "knn.fit(x_train, y_train)"
   ]
  },
  {
   "cell_type": "code",
   "execution_count": 35,
   "id": "43b13b57",
   "metadata": {},
   "outputs": [
    {
     "name": "stderr",
     "output_type": "stream",
     "text": [
      "C:\\Users\\Ammu\\anaconda3\\lib\\site-packages\\sklearn\\neighbors\\_classification.py:228: FutureWarning: Unlike other reduction functions (e.g. `skew`, `kurtosis`), the default behavior of `mode` typically preserves the axis it acts along. In SciPy 1.11.0, this behavior will change: the default value of `keepdims` will become False, the `axis` over which the statistic is taken will be eliminated, and the value None will no longer be accepted. Set `keepdims` to True or False to avoid this warning.\n",
      "  mode, _ = stats.mode(_y[neigh_ind, k], axis=1)\n"
     ]
    }
   ],
   "source": [
    "# predict the values for knn model \n",
    "knn_pred = knn.predict(x_test)"
   ]
  },
  {
   "cell_type": "code",
   "execution_count": 36,
   "id": "13a264b2",
   "metadata": {},
   "outputs": [
    {
     "data": {
      "text/plain": [
       "1.0"
      ]
     },
     "execution_count": 36,
     "metadata": {},
     "output_type": "execute_result"
    }
   ],
   "source": [
    "knn_score = f1_score(y_test, knn_pred)\n",
    "knn_score"
   ]
  },
  {
   "cell_type": "markdown",
   "id": "02187cc8",
   "metadata": {},
   "source": [
    "# 5. Naive Bayes Algorithm"
   ]
  },
  {
   "cell_type": "code",
   "execution_count": 37,
   "id": "e1cbab15",
   "metadata": {},
   "outputs": [],
   "source": [
    "# import Gaussian Naive Bayes\n",
    "from sklearn.naive_bayes import GaussianNB  "
   ]
  },
  {
   "cell_type": "code",
   "execution_count": 38,
   "id": "ae820ebb",
   "metadata": {},
   "outputs": [
    {
     "data": {
      "text/plain": [
       "GaussianNB()"
      ]
     },
     "execution_count": 38,
     "metadata": {},
     "output_type": "execute_result"
    }
   ],
   "source": [
    "# initialize\n",
    "nb_classifier = GaussianNB()  \n",
    "\n",
    "# fit the model on training data\n",
    "nb_classifier.fit(x_train, y_train)"
   ]
  },
  {
   "cell_type": "code",
   "execution_count": 39,
   "id": "36d66daa",
   "metadata": {},
   "outputs": [
    {
     "data": {
      "text/plain": [
       "0.13719298245614034"
      ]
     },
     "execution_count": 39,
     "metadata": {},
     "output_type": "execute_result"
    }
   ],
   "source": [
    "# Predict the values\n",
    "nb_pred = nb_classifier.predict(x_test)\n",
    "\n",
    "# f1 score of the predicted values\n",
    "nb_score = f1_score(y_test,nb_pred)\n",
    "nb_score"
   ]
  },
  {
   "cell_type": "markdown",
   "id": "aa25f535",
   "metadata": {},
   "source": [
    "# Conclusion"
   ]
  },
  {
   "cell_type": "code",
   "execution_count": 40,
   "id": "b6d65488",
   "metadata": {},
   "outputs": [
    {
     "data": {
      "text/html": [
       "<div>\n",
       "<style scoped>\n",
       "    .dataframe tbody tr th:only-of-type {\n",
       "        vertical-align: middle;\n",
       "    }\n",
       "\n",
       "    .dataframe tbody tr th {\n",
       "        vertical-align: top;\n",
       "    }\n",
       "\n",
       "    .dataframe thead th {\n",
       "        text-align: right;\n",
       "    }\n",
       "</style>\n",
       "<table border=\"1\" class=\"dataframe\">\n",
       "  <thead>\n",
       "    <tr style=\"text-align: right;\">\n",
       "      <th></th>\n",
       "      <th>Models</th>\n",
       "      <th>f1_Scores</th>\n",
       "    </tr>\n",
       "  </thead>\n",
       "  <tbody>\n",
       "    <tr>\n",
       "      <th>0</th>\n",
       "      <td>Logistic Regression</td>\n",
       "      <td>0.0</td>\n",
       "    </tr>\n",
       "    <tr>\n",
       "      <th>1</th>\n",
       "      <td>Support Vector Machine</td>\n",
       "      <td>1.0</td>\n",
       "    </tr>\n",
       "    <tr>\n",
       "      <th>2</th>\n",
       "      <td>Random forest</td>\n",
       "      <td>1.0</td>\n",
       "    </tr>\n",
       "    <tr>\n",
       "      <th>3</th>\n",
       "      <td>K Nearest Neighbors Classifier</td>\n",
       "      <td>1.0</td>\n",
       "    </tr>\n",
       "    <tr>\n",
       "      <th>4</th>\n",
       "      <td>Naive Bayes</td>\n",
       "      <td>0.137193</td>\n",
       "    </tr>\n",
       "  </tbody>\n",
       "</table>\n",
       "</div>"
      ],
      "text/plain": [
       "                           Models f1_Scores\n",
       "0             Logistic Regression       0.0\n",
       "1          Support Vector Machine       1.0\n",
       "2                   Random forest       1.0\n",
       "3  K Nearest Neighbors Classifier       1.0\n",
       "4                     Naive Bayes  0.137193"
      ]
     },
     "execution_count": 40,
     "metadata": {},
     "output_type": "execute_result"
    }
   ],
   "source": [
    "# Define the models and the f1 scores in lists \n",
    "Models = ['Logistic Regression','Support Vector Machine','Random forest','K Nearest Neighbors Classifier','Naive Bayes']\n",
    "Scores =[score_LR, score_svc, score_rf, knn_score,nb_score]\n",
    "\n",
    "# Compile into a single Dataframe\n",
    "Results = pd.DataFrame([Models,Scores]).T\n",
    "Results.columns = ['Models','f1_Scores']\n",
    "Results"
   ]
  },
  {
   "cell_type": "markdown",
   "id": "13c641d8",
   "metadata": {},
   "source": [
    "Comparing the above-given 5 models, the best model are\n",
    "Support Vector Machine, Random Forest, and K Nearest Neighbors"
   ]
  }
 ],
 "metadata": {
  "kernelspec": {
   "display_name": "Python 3 (ipykernel)",
   "language": "python",
   "name": "python3"
  },
  "language_info": {
   "codemirror_mode": {
    "name": "ipython",
    "version": 3
   },
   "file_extension": ".py",
   "mimetype": "text/x-python",
   "name": "python",
   "nbconvert_exporter": "python",
   "pygments_lexer": "ipython3",
   "version": "3.9.13"
  }
 },
 "nbformat": 4,
 "nbformat_minor": 5
}
