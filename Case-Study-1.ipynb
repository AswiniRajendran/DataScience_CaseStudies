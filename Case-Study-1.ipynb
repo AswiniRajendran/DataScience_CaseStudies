{
 "cells": [
  {
   "cell_type": "markdown",
   "id": "52a41f8c",
   "metadata": {},
   "source": [
    "Case Study on Testing of Hypothesis\n",
    "A company started to invest in digital marketing as a new way of their product\n",
    "promotions. For that they collected data and decided to carry out a study on it.\n",
    "● The company wishes to clarify whether there is any increase in sales after\n",
    "stepping into digital marketing.\n",
    "● The company needs to check whether there is any dependency between\n",
    "thefeatures “Region” and “Manager”"
   ]
  },
  {
   "cell_type": "code",
   "execution_count": 24,
   "id": "2165ecff",
   "metadata": {},
   "outputs": [],
   "source": [
    "# import the pandas library\n",
    "import pandas"
   ]
  },
  {
   "cell_type": "code",
   "execution_count": 2,
   "id": "9933cf02",
   "metadata": {
    "scrolled": true
   },
   "outputs": [
    {
     "data": {
      "text/html": [
       "<div>\n",
       "<style scoped>\n",
       "    .dataframe tbody tr th:only-of-type {\n",
       "        vertical-align: middle;\n",
       "    }\n",
       "\n",
       "    .dataframe tbody tr th {\n",
       "        vertical-align: top;\n",
       "    }\n",
       "\n",
       "    .dataframe thead th {\n",
       "        text-align: right;\n",
       "    }\n",
       "</style>\n",
       "<table border=\"1\" class=\"dataframe\">\n",
       "  <thead>\n",
       "    <tr style=\"text-align: right;\">\n",
       "      <th></th>\n",
       "      <th>Month</th>\n",
       "      <th>Region</th>\n",
       "      <th>Manager</th>\n",
       "      <th>Sales_before_digital_add(in $)</th>\n",
       "      <th>Sales_After_digital_add(in $)</th>\n",
       "    </tr>\n",
       "  </thead>\n",
       "  <tbody>\n",
       "    <tr>\n",
       "      <th>0</th>\n",
       "      <td>Month-1</td>\n",
       "      <td>Region - A</td>\n",
       "      <td>Manager - A</td>\n",
       "      <td>132921</td>\n",
       "      <td>270390</td>\n",
       "    </tr>\n",
       "    <tr>\n",
       "      <th>1</th>\n",
       "      <td>Month-2</td>\n",
       "      <td>Region - A</td>\n",
       "      <td>Manager - C</td>\n",
       "      <td>149559</td>\n",
       "      <td>223334</td>\n",
       "    </tr>\n",
       "    <tr>\n",
       "      <th>2</th>\n",
       "      <td>Month-3</td>\n",
       "      <td>Region - B</td>\n",
       "      <td>Manager - A</td>\n",
       "      <td>146278</td>\n",
       "      <td>244243</td>\n",
       "    </tr>\n",
       "    <tr>\n",
       "      <th>3</th>\n",
       "      <td>Month-4</td>\n",
       "      <td>Region - B</td>\n",
       "      <td>Manager - B</td>\n",
       "      <td>152167</td>\n",
       "      <td>231808</td>\n",
       "    </tr>\n",
       "    <tr>\n",
       "      <th>4</th>\n",
       "      <td>Month-5</td>\n",
       "      <td>Region - C</td>\n",
       "      <td>Manager - B</td>\n",
       "      <td>159525</td>\n",
       "      <td>258402</td>\n",
       "    </tr>\n",
       "    <tr>\n",
       "      <th>5</th>\n",
       "      <td>Month-6</td>\n",
       "      <td>Region - A</td>\n",
       "      <td>Manager - B</td>\n",
       "      <td>137163</td>\n",
       "      <td>256948</td>\n",
       "    </tr>\n",
       "  </tbody>\n",
       "</table>\n",
       "</div>"
      ],
      "text/plain": [
       "     Month      Region      Manager  Sales_before_digital_add(in $)  \\\n",
       "0  Month-1  Region - A  Manager - A                          132921   \n",
       "1  Month-2  Region - A  Manager - C                          149559   \n",
       "2  Month-3  Region - B  Manager - A                          146278   \n",
       "3  Month-4  Region - B  Manager - B                          152167   \n",
       "4  Month-5  Region - C  Manager - B                          159525   \n",
       "5  Month-6  Region - A  Manager - B                          137163   \n",
       "\n",
       "   Sales_After_digital_add(in $)  \n",
       "0                         270390  \n",
       "1                         223334  \n",
       "2                         244243  \n",
       "3                         231808  \n",
       "4                         258402  \n",
       "5                         256948  "
      ]
     },
     "execution_count": 2,
     "metadata": {},
     "output_type": "execute_result"
    }
   ],
   "source": [
    "#import and showcase dataset\n",
    "data = pandas.read_csv(\"C:/Users/Ammu/Downloads/Sales_add.csv\")\n",
    "data.head(6)"
   ]
  },
  {
   "cell_type": "markdown",
   "id": "438b5dc1",
   "metadata": {},
   "source": [
    "## 1. Is there an increase in Sales after stepping into digital marketing?"
   ]
  },
  {
   "cell_type": "markdown",
   "id": "ce12332f",
   "metadata": {},
   "source": [
    "Null and Alternative hypotheses.\n",
    "\n",
    "H0: The Sales before digital marketing is the same as that after sales (Mean1=Mean2)\n",
    "\n",
    "H0: The Sales before digital marketing is less than that after sales (Mean1<Mean2)"
   ]
  },
  {
   "cell_type": "code",
   "execution_count": 4,
   "id": "ea6f874e",
   "metadata": {
    "scrolled": true
   },
   "outputs": [
    {
     "name": "stdout",
     "output_type": "stream",
     "text": [
      "<class 'pandas.core.frame.DataFrame'>\n",
      "RangeIndex: 22 entries, 0 to 21\n",
      "Data columns (total 5 columns):\n",
      " #   Column                          Non-Null Count  Dtype \n",
      "---  ------                          --------------  ----- \n",
      " 0   Month                           22 non-null     object\n",
      " 1   Region                          22 non-null     object\n",
      " 2   Manager                         22 non-null     object\n",
      " 3   Sales_before_digital_add(in $)  22 non-null     int64 \n",
      " 4   Sales_After_digital_add(in $)   22 non-null     int64 \n",
      "dtypes: int64(2), object(3)\n",
      "memory usage: 1008.0+ bytes\n"
     ]
    }
   ],
   "source": [
    "# Study the data type of the 2 variables\n",
    "data.info()"
   ]
  },
  {
   "cell_type": "code",
   "execution_count": null,
   "id": "e047e623",
   "metadata": {},
   "outputs": [],
   "source": [
    "# No null values;\n",
    "# The variables are numerical(discrete)\n",
    "# dataset size is small.\n",
    "# The 2 variables are dependent."
   ]
  },
  {
   "cell_type": "code",
   "execution_count": 3,
   "id": "e04f8a55",
   "metadata": {},
   "outputs": [],
   "source": [
    "# To compare the 2 variables, check if the values are in accordance \n",
    "#to the assumption of Normality\n",
    "# import Shapiro-Wilks test for Normality from scipy.stats\n",
    "from scipy.stats import shapiro"
   ]
  },
  {
   "cell_type": "code",
   "execution_count": 9,
   "id": "b82398b3",
   "metadata": {},
   "outputs": [],
   "source": [
    "#shapiro test\n",
    "statb,pb=shapiro(data['Sales_before_digital_add(in $)'])"
   ]
  },
  {
   "cell_type": "code",
   "execution_count": 10,
   "id": "1ce8f7f0",
   "metadata": {},
   "outputs": [
    {
     "name": "stdout",
     "output_type": "stream",
     "text": [
      "Normal data\n"
     ]
    }
   ],
   "source": [
    "# level of significance, alpha=0.05. Reject H0 is p< alpha.\n",
    "if pb<0.05:\n",
    "    print('Assymetric Data')\n",
    "else:\n",
    "    print('Normal data')"
   ]
  },
  {
   "cell_type": "code",
   "execution_count": 12,
   "id": "c82ab49b",
   "metadata": {},
   "outputs": [],
   "source": [
    "#shapiro test\n",
    "stata,pa=shapiro(data['Sales_After_digital_add(in $)'])"
   ]
  },
  {
   "cell_type": "code",
   "execution_count": 13,
   "id": "09bac7e6",
   "metadata": {},
   "outputs": [
    {
     "name": "stdout",
     "output_type": "stream",
     "text": [
      "Normal data\n"
     ]
    }
   ],
   "source": [
    "# level of significance, alpha=0.05. Reject H0 is p< alpha.\n",
    "if pa<0.05:\n",
    "    print('Assymetric Data')\n",
    "else:\n",
    "    print('Normal data')"
   ]
  },
  {
   "cell_type": "code",
   "execution_count": 14,
   "id": "23aa573a",
   "metadata": {},
   "outputs": [],
   "source": [
    "# Since the 2 dependent variables are from normal population,\n",
    "# perform a PAIRED T-TEST"
   ]
  },
  {
   "cell_type": "code",
   "execution_count": 17,
   "id": "b4123d7d",
   "metadata": {},
   "outputs": [],
   "source": [
    "# import related t-test from scipy.stats library\n",
    "from scipy.stats import ttest_rel"
   ]
  },
  {
   "cell_type": "code",
   "execution_count": 18,
   "id": "2dc0418e",
   "metadata": {},
   "outputs": [
    {
     "data": {
      "text/plain": [
       "(-12.09070525287017, 6.336667004575778e-11)"
      ]
     },
     "execution_count": 18,
     "metadata": {},
     "output_type": "execute_result"
    }
   ],
   "source": [
    "#paired t-test\n",
    "t_stat,pt=ttest_rel(data['Sales_before_digital_add(in $)'],data['Sales_After_digital_add(in $)'])\n",
    "t_stat,pt"
   ]
  },
  {
   "cell_type": "code",
   "execution_count": 71,
   "id": "c73fe055",
   "metadata": {
    "scrolled": true
   },
   "outputs": [
    {
     "name": "stdout",
     "output_type": "stream",
     "text": [
      "Reject the null hypothesis at 5% level of Significance\n"
     ]
    }
   ],
   "source": [
    "# level of significance, alpha=0.05. Reject H0 is p< alpha.\n",
    "if pt<0.05:\n",
    "    print('Reject the null hypothesis at 5% level of Significance')\n",
    "else:\n",
    "    print('Accept the null hypothesis at 5% level of Significance')"
   ]
  },
  {
   "cell_type": "markdown",
   "id": "6a1e8074",
   "metadata": {},
   "source": [
    "### CONCLUSION: Digital Marketing has improved the Sales."
   ]
  },
  {
   "cell_type": "markdown",
   "id": "db343b18",
   "metadata": {},
   "source": [
    "# Are the attributes, Region and Manager independent?"
   ]
  },
  {
   "cell_type": "markdown",
   "id": "51afa34e",
   "metadata": {},
   "source": [
    "Null and Alternative hypotheses.\n",
    "\n",
    "H0: The attributes are independent\n",
    "\n",
    "H1: The attributes are dependent"
   ]
  },
  {
   "cell_type": "code",
   "execution_count": 28,
   "id": "54679ebd",
   "metadata": {},
   "outputs": [
    {
     "data": {
      "text/plain": [
       "array(['Manager - A', 'Manager - C', 'Manager - B'], dtype=object)"
      ]
     },
     "execution_count": 28,
     "metadata": {},
     "output_type": "execute_result"
    }
   ],
   "source": [
    "# Names under Manager column\n",
    "data['Manager'].unique()"
   ]
  },
  {
   "cell_type": "code",
   "execution_count": 32,
   "id": "68c4d783",
   "metadata": {},
   "outputs": [
    {
     "data": {
      "text/plain": [
       "array(['Region - A', 'Region - B', 'Region - C'], dtype=object)"
      ]
     },
     "execution_count": 32,
     "metadata": {},
     "output_type": "execute_result"
    }
   ],
   "source": [
    "# Names under Region column\n",
    "data['Region'].unique()"
   ]
  },
  {
   "cell_type": "code",
   "execution_count": 21,
   "id": "78f0a40e",
   "metadata": {},
   "outputs": [],
   "source": [
    "# Import chi square test from scipy.stats library\n",
    "from scipy.stats import chi2_contingency"
   ]
  },
  {
   "cell_type": "code",
   "execution_count": 64,
   "id": "84681cb7",
   "metadata": {},
   "outputs": [],
   "source": [
    "# create a pivot table for Managers vs. Regions  using crosstab()\n",
    "tab= pandas.crosstab(data['Manager'], data['Region'])"
   ]
  },
  {
   "cell_type": "code",
   "execution_count": 67,
   "id": "62886046",
   "metadata": {},
   "outputs": [
    {
     "data": {
      "text/plain": [
       "(3.050566893424036,\n",
       " 0.5493991051158094,\n",
       " 4,\n",
       " array([[4.09090909, 2.86363636, 2.04545455],\n",
       "        [3.18181818, 2.22727273, 1.59090909],\n",
       "        [2.72727273, 1.90909091, 1.36363636]]))"
      ]
     },
     "execution_count": 67,
     "metadata": {},
     "output_type": "execute_result"
    }
   ],
   "source": [
    "# chi square test for independence of attributes\n",
    "chi2stat,p_chi,dof,expected_freq=chi2_contingency(tab)\n",
    "chi2_contingency(tab)"
   ]
  },
  {
   "cell_type": "code",
   "execution_count": 68,
   "id": "34bb885d",
   "metadata": {},
   "outputs": [
    {
     "name": "stdout",
     "output_type": "stream",
     "text": [
      "Accept the null hypothesis\n"
     ]
    }
   ],
   "source": [
    "# level of significance, alpha=0.05. Reject H0 is p< alpha.\n",
    "if p_chi<0.05:\n",
    "    print('Reject the null hypothesis')\n",
    "else:\n",
    "    print('Accept the null hypothesis')"
   ]
  },
  {
   "cell_type": "markdown",
   "id": "d947bc65",
   "metadata": {},
   "source": [
    "### Conclusion: The attributes, Regions and Managers are independent"
   ]
  }
 ],
 "metadata": {
  "kernelspec": {
   "display_name": "Python 3 (ipykernel)",
   "language": "python",
   "name": "python3"
  },
  "language_info": {
   "codemirror_mode": {
    "name": "ipython",
    "version": 3
   },
   "file_extension": ".py",
   "mimetype": "text/x-python",
   "name": "python",
   "nbconvert_exporter": "python",
   "pygments_lexer": "ipython3",
   "version": "3.9.13"
  }
 },
 "nbformat": 4,
 "nbformat_minor": 5
}
